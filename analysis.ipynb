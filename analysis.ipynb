{
 "cells": [
  {
   "cell_type": "code",
   "execution_count": 25,
   "id": "756547a9-22a0-4eee-95de-d6847d99f9e9",
   "metadata": {},
   "outputs": [
    {
     "name": "stdout",
     "output_type": "stream",
     "text": [
      "The autoreload extension is already loaded. To reload it, use:\n",
      "  %reload_ext autoreload\n"
     ]
    }
   ],
   "source": [
    "%load_ext autoreload\n",
    "%autoreload 2\n",
    "\n",
    "from read_excel import *\n",
    "from compute_state import *\n",
    "from collections import namedtuple"
   ]
  },
  {
   "cell_type": "code",
   "execution_count": 20,
   "id": "2e965ef8-be50-4b9d-9283-d46aab34d28f",
   "metadata": {},
   "outputs": [
    {
     "name": "stdout",
     "output_type": "stream",
     "text": [
      "Operacion           Suscripción Desde Cuenta Balanz\n",
      "Estado                                    Ejecutada\n",
      "id Orden                                   41387004\n",
      "Ticker                                        BCMMA\n",
      "Moneda                                        Pesos\n",
      "Fecha                           2024-04-17 14:15:11\n",
      "Cantidad                                       -1.0\n",
      "Precio                                         -1.0\n",
      "Monto                                     314704.13\n",
      "Precio Operado                             6.300322\n",
      "Cantidad Operada                       49950.483483\n",
      "Name: 0, dtype: object\n"
     ]
    }
   ],
   "source": [
    "# Example usage:\n",
    "file_path = 'ordenes.xlsx'  # Set the filename to 'ordenes.xlsx'\n",
    "df = read_excel_to_dataframe(file_path)\n",
    "df = merge_date_time_columns(df)\n",
    "print(df.loc[0])"
   ]
  },
  {
   "cell_type": "markdown",
   "id": "fa938d2c-b6c3-4389-98e1-682c31368fba",
   "metadata": {},
   "source": [
    "## Example usage:\n",
    "# Create a Balance tuple\n",
    "balance = Balance(ARS=0, USD=0)\n",
    "\n",
    "# Create a State tuple containing the Balance tuple\n",
    "current_state = State(balance=balance)\n",
    "\n",
    "# Iterate through all rows of the DataFrame\n",
    "for index, row in df.iterrows():\n",
    "    # Call the update_state function for each row\n",
    "    next_state = update_state(row, current_state)\n",
    "    \n",
    "    # Update the current state to the next state\n",
    "    current_state = next_state\n",
    "\n",
    "current_state"
   ]
  }
 ],
 "metadata": {
  "kernelspec": {
   "display_name": "Python 3 (ipykernel)",
   "language": "python",
   "name": "python3"
  },
  "language_info": {
   "codemirror_mode": {
    "name": "ipython",
    "version": 3
   },
   "file_extension": ".py",
   "mimetype": "text/x-python",
   "name": "python",
   "nbconvert_exporter": "python",
   "pygments_lexer": "ipython3",
   "version": "3.11.8"
  }
 },
 "nbformat": 4,
 "nbformat_minor": 5
}
