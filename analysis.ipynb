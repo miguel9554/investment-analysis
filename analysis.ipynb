{
 "cells": [
  {
   "cell_type": "code",
   "execution_count": 1,
   "id": "756547a9-22a0-4eee-95de-d6847d99f9e9",
   "metadata": {},
   "outputs": [],
   "source": [
    "%load_ext autoreload\n",
    "%autoreload 2\n",
    "\n",
    "from read_excel import *\n",
    "from compute_state import *\n",
    "from collections import namedtuple\n",
    "from custom_types import *"
   ]
  },
  {
   "cell_type": "code",
   "execution_count": 6,
   "id": "2e965ef8-be50-4b9d-9283-d46aab34d28f",
   "metadata": {},
   "outputs": [
    {
     "name": "stdout",
     "output_type": "stream",
     "text": [
      "Descripcion            Dividendo en efectivo / MO\n",
      "Ticker                                         MO\n",
      "Tipo de Instrumento                       Cedears\n",
      "Concertacion                  2024-05-03 00:00:00\n",
      "Cantidad                                      0.0\n",
      "Precio                                       -1.0\n",
      "Liquidacion                   2024-05-03 00:00:00\n",
      "Moneda                          Dólares C.V. 7000\n",
      "Importe                                      6.18\n",
      "Name: 0, dtype: object\n"
     ]
    }
   ],
   "source": [
    "# Example usage:\n",
    "file_path = 'private/movimientos.xlsx'  # Set the filename to 'ordenes.xlsx'\n",
    "df = read_excel_to_dataframe(file_path)\n",
    "print(df.loc[0])"
   ]
  },
  {
   "cell_type": "code",
   "execution_count": 30,
   "id": "9a018e1e-e5d8-4a0d-b440-3598291a9251",
   "metadata": {},
   "outputs": [
    {
     "name": "stdout",
     "output_type": "stream",
     "text": [
      "2020-09-17 00:00:00, State: State(FCIs=(FCI(name='BCRFA', quotas=1382.7319),))\n",
      "2020-09-17 00:00:00, State: State(FCIs=(FCI(name='BCRFA', quotas=1382.7319),))\n",
      "2020-09-17 00:00:00, State: State(FCIs=(FCI(name='BCRFA', quotas=1382.7319),))\n",
      "2020-10-05 00:00:00, State: State(FCIs=(FCI(name='BCRFA', quotas=2404.4746),))\n",
      "2020-10-05 00:00:00, State: State(FCIs=(FCI(name='BCRFA', quotas=2404.4746),))\n",
      "2020-10-05 00:00:00, State: State(FCIs=(FCI(name='BCRFA', quotas=2404.4746),))\n",
      "2020-10-27 00:00:00, State: State(FCIs=())\n",
      "2020-10-27 00:00:00, State: State(FCIs=(FCI(name='BRTA', quotas=1450.8691),))\n",
      "2020-11-04 00:00:00, State: State(FCIs=(FCI(name='BRTA', quotas=1450.8691),))\n",
      "2020-11-05 00:00:00, State: State(FCIs=(FCI(name='BRTA', quotas=1772.7821),))\n",
      "2020-11-05 00:00:00, State: State(FCIs=(FCI(name='BRTA', quotas=1772.7821),))\n",
      "2020-12-04 00:00:00, State: State(FCIs=(FCI(name='BRTA', quotas=1772.7821), FCI(name='BCACCA', quotas=3174.151739)))\n",
      "2020-12-04 00:00:00, State: State(FCIs=(FCI(name='BRTA', quotas=1772.7821), FCI(name='BCACCA', quotas=3174.151739)))\n",
      "2020-12-04 00:00:00, State: State(FCIs=(FCI(name='BRTA', quotas=1772.7821), FCI(name='BCACCA', quotas=3174.151739)))\n",
      "2020-12-16 00:00:00, State: State(FCIs=(FCI(name='BRTA', quotas=1772.7821),))\n",
      "2020-12-16 00:00:00, State: State(FCIs=(FCI(name='BRTA', quotas=2159.7971),))\n",
      "2021-01-04 00:00:00, State: State(FCIs=(FCI(name='BRTA', quotas=2159.7971),))\n",
      "2021-01-04 00:00:00, State: State(FCIs=(FCI(name='BRTA', quotas=3729.1605999999997),))\n",
      "2021-01-04 00:00:00, State: State(FCIs=(FCI(name='BRTA', quotas=3729.1605999999997),))\n",
      "2021-01-13 00:00:00, State: State(FCIs=(FCI(name='BRTA', quotas=2565.9478999999997),))\n",
      "2021-01-19 00:00:00, State: State(FCIs=(FCI(name='BRTA', quotas=2179.9365999999995),))\n",
      "2021-02-04 00:00:00, State: State(FCIs=(FCI(name='BRTA', quotas=2179.9365999999995),))\n",
      "2021-02-04 00:00:00, State: State(FCIs=(FCI(name='BRTA', quotas=2179.9365999999995),))\n",
      "2021-02-04 00:00:00, State: State(FCIs=(FCI(name='BRTA', quotas=2179.9365999999995),))\n",
      "2021-02-05 00:00:00, State: State(FCIs=(FCI(name='BRTA', quotas=4910.3591),))\n",
      "2021-02-05 00:00:00, State: State(FCIs=(FCI(name='BRTA', quotas=4910.3591),))\n",
      "2021-02-19 00:00:00, State: State(FCIs=(FCI(name='BRTA', quotas=4689.827499999999),))\n",
      "2021-03-01 00:00:00, State: State(FCIs=(FCI(name='BRTA', quotas=4541.6064),))\n",
      "2021-03-02 00:00:00, State: State(FCIs=(FCI(name='BRTA', quotas=4541.6064),))\n",
      "2021-03-04 00:00:00, State: State(FCIs=(FCI(name='BRTA', quotas=4541.6064), FCI(name='INSTITUA', quotas=19403.450246)))\n",
      "2021-03-04 00:00:00, State: State(FCIs=(FCI(name='BRTA', quotas=4541.6064), FCI(name='INSTITUA', quotas=19403.450246)))\n",
      "2021-03-31 00:00:00, State: State(FCIs=(FCI(name='BRTA', quotas=4541.6064), FCI(name='INSTITUA', quotas=19403.450246), FCI(name='BCAHA', quotas=6048.102525)))\n",
      "2021-03-31 00:00:00, State: State(FCIs=(FCI(name='BRTA', quotas=4541.6064), FCI(name='INSTITUA', quotas=19403.450246), FCI(name='BCAHA', quotas=6048.102525)))\n",
      "2021-03-31 00:00:00, State: State(FCIs=(FCI(name='BRTA', quotas=4541.6064), FCI(name='INSTITUA', quotas=19403.450246), FCI(name='BCAHA', quotas=6048.102525)))\n",
      "2021-03-31 00:00:00, State: State(FCIs=(FCI(name='BRTA', quotas=4541.6064), FCI(name='INSTITUA', quotas=19403.450246), FCI(name='BCAHA', quotas=6048.102525)))\n",
      "2021-04-30 00:00:00, State: State(FCIs=(FCI(name='BRTA', quotas=4541.6064), FCI(name='BCAHA', quotas=6048.102525), FCI(name='INSTITUA', quotas=28790.945393)))\n",
      "2021-04-30 00:00:00, State: State(FCIs=(FCI(name='BCAHA', quotas=6048.102525), FCI(name='INSTITUA', quotas=28790.945393), FCI(name='BRTA', quotas=6130.807124)))\n",
      "2021-04-30 00:00:00, State: State(FCIs=(FCI(name='BCAHA', quotas=6048.102525), FCI(name='INSTITUA', quotas=28790.945393), FCI(name='BRTA', quotas=6130.807124)))\n",
      "2021-04-30 00:00:00, State: State(FCIs=(FCI(name='BCAHA', quotas=6048.102525), FCI(name='INSTITUA', quotas=28790.945393), FCI(name='BRTA', quotas=6130.807124)))\n",
      "2021-04-30 00:00:00, State: State(FCIs=(FCI(name='BCAHA', quotas=6048.102525), FCI(name='INSTITUA', quotas=28790.945393), FCI(name='BRTA', quotas=6130.807124)))\n",
      "2021-05-31 00:00:00, State: State(FCIs=(FCI(name='BCAHA', quotas=6048.102525), FCI(name='BRTA', quotas=6130.807124), FCI(name='INSTITUA', quotas=34774.213781)))\n",
      "2021-05-31 00:00:00, State: State(FCIs=(FCI(name='BCAHA', quotas=6048.102525), FCI(name='INSTITUA', quotas=34774.213781), FCI(name='BRTA', quotas=7121.567949)))\n",
      "2021-05-31 00:00:00, State: State(FCIs=(FCI(name='INSTITUA', quotas=34774.213781), FCI(name='BRTA', quotas=7121.567949), FCI(name='BCAHA', quotas=7468.877955)))\n",
      "2021-05-31 00:00:00, State: State(FCIs=(FCI(name='INSTITUA', quotas=34774.213781), FCI(name='BRTA', quotas=7121.567949), FCI(name='BCAHA', quotas=7468.877955)))\n",
      "2021-05-31 00:00:00, State: State(FCIs=(FCI(name='INSTITUA', quotas=34774.213781), FCI(name='BRTA', quotas=7121.567949), FCI(name='BCAHA', quotas=7468.877955)))\n",
      "2021-05-31 00:00:00, State: State(FCIs=(FCI(name='INSTITUA', quotas=34774.213781), FCI(name='BRTA', quotas=7121.567949), FCI(name='BCAHA', quotas=7468.877955)))\n",
      "2021-05-31 00:00:00, State: State(FCIs=(FCI(name='INSTITUA', quotas=34774.213781), FCI(name='BRTA', quotas=7121.567949), FCI(name='BCAHA', quotas=7468.877955)))\n",
      "2021-07-30 00:00:00, State: State(FCIs=(FCI(name='BRTA', quotas=7121.567949), FCI(name='BCAHA', quotas=7468.877955), FCI(name='INSTITUA', quotas=45930.887507)))\n",
      "2021-07-30 00:00:00, State: State(FCIs=(FCI(name='BCAHA', quotas=7468.877955), FCI(name='INSTITUA', quotas=45930.887507), FCI(name='BRTA', quotas=8951.703044)))\n",
      "2021-07-30 00:00:00, State: State(FCIs=(FCI(name='BCAHA', quotas=7468.877955), FCI(name='INSTITUA', quotas=45930.887507), FCI(name='BRTA', quotas=8951.703044)))\n",
      "2021-07-30 00:00:00, State: State(FCIs=(FCI(name='BCAHA', quotas=7468.877955), FCI(name='INSTITUA', quotas=45930.887507), FCI(name='BRTA', quotas=8951.703044)))\n",
      "2021-07-30 00:00:00, State: State(FCIs=(FCI(name='BCAHA', quotas=7468.877955), FCI(name='INSTITUA', quotas=45930.887507), FCI(name='BRTA', quotas=8951.703044)))\n",
      "2021-08-24 00:00:00, State: State(FCIs=(FCI(name='INSTITUA', quotas=45930.887507), FCI(name='BRTA', quotas=8951.703044), FCI(name='BCAHA', quotas=2875.1296919999995)))\n",
      "2021-09-02 00:00:00, State: State(FCIs=(FCI(name='INSTITUA', quotas=45930.887507), FCI(name='BRTA', quotas=8951.703044)))\n",
      "2021-09-02 00:00:00, State: State(FCIs=(FCI(name='INSTITUA', quotas=45930.887507), FCI(name='BRTA', quotas=8951.703044), FCI(name='BCACCA', quotas=10475.688491)))\n"
     ]
    },
    {
     "ename": "Exception",
     "evalue": "('No matching function found for operation type:', 'Rescate a Balanz')",
     "output_type": "error",
     "traceback": [
      "\u001b[0;31m---------------------------------------------------------------------------\u001b[0m",
      "\u001b[0;31mException\u001b[0m                                 Traceback (most recent call last)",
      "Cell \u001b[0;32mIn[30], line 14\u001b[0m\n\u001b[1;32m     10\u001b[0m \u001b[38;5;66;03m# Iterate through all rows of the DataFrame\u001b[39;00m\n\u001b[1;32m     11\u001b[0m \u001b[38;5;28;01mfor\u001b[39;00m index, row \u001b[38;5;129;01min\u001b[39;00m df[::\u001b[38;5;241m-\u001b[39m\u001b[38;5;241m1\u001b[39m]\u001b[38;5;241m.\u001b[39miterrows():\n\u001b[1;32m     12\u001b[0m     \n\u001b[1;32m     13\u001b[0m     \u001b[38;5;66;03m# Call the update_state function for each row\u001b[39;00m\n\u001b[0;32m---> 14\u001b[0m     next_state \u001b[38;5;241m=\u001b[39m \u001b[43mupdate_state\u001b[49m\u001b[43m(\u001b[49m\u001b[43mrow\u001b[49m\u001b[43m,\u001b[49m\u001b[43m \u001b[49m\u001b[43mcurrent_state\u001b[49m\u001b[43m)\u001b[49m\n\u001b[1;32m     16\u001b[0m     \u001b[38;5;66;03m# Update the current state to the next state\u001b[39;00m\n\u001b[1;32m     17\u001b[0m     current_state \u001b[38;5;241m=\u001b[39m next_state\n",
      "File \u001b[0;32m~/dev/finance/balanz_analysis/compute_state.py:38\u001b[0m, in \u001b[0;36mupdate_state\u001b[0;34m(row, current_state)\u001b[0m\n\u001b[1;32m     35\u001b[0m \u001b[38;5;28;01mdef\u001b[39;00m \u001b[38;5;21mupdate_state\u001b[39m(row: pd\u001b[38;5;241m.\u001b[39mDataFrame, current_state: State) \u001b[38;5;241m-\u001b[39m\u001b[38;5;241m>\u001b[39m State:\n\u001b[1;32m     36\u001b[0m     operation_type \u001b[38;5;241m=\u001b[39m row[\u001b[38;5;124m'\u001b[39m\u001b[38;5;124mDescripcion\u001b[39m\u001b[38;5;124m'\u001b[39m]\n\u001b[0;32m---> 38\u001b[0m     operation_function \u001b[38;5;241m=\u001b[39m \u001b[43mget_operation_function\u001b[49m\u001b[43m(\u001b[49m\u001b[43moperation_functions\u001b[49m\u001b[43m,\u001b[49m\u001b[43m \u001b[49m\u001b[43moperation_type\u001b[49m\u001b[43m)\u001b[49m\n\u001b[1;32m     39\u001b[0m     new_state \u001b[38;5;241m=\u001b[39m operation_function(row, current_state)\n\u001b[1;32m     40\u001b[0m     \u001b[38;5;28mprint\u001b[39m(\u001b[38;5;124mf\u001b[39m\u001b[38;5;124m'\u001b[39m\u001b[38;5;132;01m{\u001b[39;00mrow[\u001b[38;5;124m\"\u001b[39m\u001b[38;5;124mLiquidacion\u001b[39m\u001b[38;5;124m\"\u001b[39m]\u001b[38;5;132;01m}\u001b[39;00m\u001b[38;5;124m, State: \u001b[39m\u001b[38;5;132;01m{\u001b[39;00mnew_state\u001b[38;5;132;01m}\u001b[39;00m\u001b[38;5;124m'\u001b[39m)\n",
      "File \u001b[0;32m~/dev/finance/balanz_analysis/compute_state.py:15\u001b[0m, in \u001b[0;36mget_operation_function\u001b[0;34m(operation_functions, operation_type)\u001b[0m\n\u001b[1;32m     12\u001b[0m         matching_functions\u001b[38;5;241m.\u001b[39mappend(func)\n\u001b[1;32m     14\u001b[0m \u001b[38;5;28;01mif\u001b[39;00m \u001b[38;5;129;01mnot\u001b[39;00m matching_functions:\n\u001b[0;32m---> 15\u001b[0m     \u001b[38;5;28;01mraise\u001b[39;00m \u001b[38;5;167;01mException\u001b[39;00m(\u001b[38;5;124m\"\u001b[39m\u001b[38;5;124mNo matching function found for operation type:\u001b[39m\u001b[38;5;124m\"\u001b[39m, operation_type)\n\u001b[1;32m     16\u001b[0m \u001b[38;5;28;01melif\u001b[39;00m \u001b[38;5;28mlen\u001b[39m(matching_functions) \u001b[38;5;241m>\u001b[39m \u001b[38;5;241m1\u001b[39m:\n\u001b[1;32m     17\u001b[0m     \u001b[38;5;28;01mraise\u001b[39;00m \u001b[38;5;167;01mException\u001b[39;00m(\u001b[38;5;124m\"\u001b[39m\u001b[38;5;124mMore than one function matched for operation type:\u001b[39m\u001b[38;5;124m\"\u001b[39m, operation_type)\n",
      "\u001b[0;31mException\u001b[0m: ('No matching function found for operation type:', 'Rescate a Balanz')"
     ]
    }
   ],
   "source": [
    "## Example usage:\n",
    "# Create a Balance tuple\n",
    "balance = Balance(ARS=0, USD=0)\n",
    "\n",
    "FCIs = tuple()\n",
    "\n",
    "# Create a State tuple containing the Balance tuple\n",
    "current_state = State(FCIs=FCIs)\n",
    "\n",
    "# Iterate through all rows of the DataFrame\n",
    "for index, row in df[::-1].iterrows():\n",
    "    \n",
    "    # Call the update_state function for each row\n",
    "    next_state = update_state(row, current_state)\n",
    "    \n",
    "    # Update the current state to the next state\n",
    "    current_state = next_state\n",
    "\n",
    "current_state"
   ]
  }
 ],
 "metadata": {
  "kernelspec": {
   "display_name": "Python 3 (ipykernel)",
   "language": "python",
   "name": "python3"
  },
  "language_info": {
   "codemirror_mode": {
    "name": "ipython",
    "version": 3
   },
   "file_extension": ".py",
   "mimetype": "text/x-python",
   "name": "python",
   "nbconvert_exporter": "python",
   "pygments_lexer": "ipython3",
   "version": "3.12.3"
  }
 },
 "nbformat": 4,
 "nbformat_minor": 5
}
