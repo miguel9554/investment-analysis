{
 "cells": [
  {
   "cell_type": "code",
   "execution_count": 1,
   "id": "756547a9-22a0-4eee-95de-d6847d99f9e9",
   "metadata": {},
   "outputs": [],
   "source": [
    "%load_ext autoreload\n",
    "%autoreload 2\n",
    "\n",
    "from read_excel import *\n",
    "from compute_state import *\n",
    "from collections import namedtuple\n",
    "from custom_types import *"
   ]
  },
  {
   "cell_type": "code",
   "execution_count": 2,
   "id": "2e965ef8-be50-4b9d-9283-d46aab34d28f",
   "metadata": {},
   "outputs": [
    {
     "name": "stdout",
     "output_type": "stream",
     "text": [
      "Descripcion            Dividendo en efectivo / MO\n",
      "Ticker                                         MO\n",
      "Tipo de Instrumento                       Cedears\n",
      "Concertacion                  2024-05-03 00:00:00\n",
      "Cantidad                                      0.0\n",
      "Precio                                       -1.0\n",
      "Liquidacion                   2024-05-03 00:00:00\n",
      "Moneda                          Dólares C.V. 7000\n",
      "Importe                                      6.18\n",
      "Name: 0, dtype: object\n"
     ]
    }
   ],
   "source": [
    "# Example usage:\n",
    "file_path = 'private/movimientos.xlsx'  # Set the filename to 'ordenes.xlsx'\n",
    "df = read_excel_to_dataframe(file_path)\n",
    "print(df.loc[0])"
   ]
  },
  {
   "cell_type": "code",
   "execution_count": 5,
   "id": "9a018e1e-e5d8-4a0d-b440-3598291a9251",
   "metadata": {},
   "outputs": [
    {
     "name": "stdout",
     "output_type": "stream",
     "text": [
      "2020-09-17 00:00:00, State: State(Fondos=(instrument_t(name='BCRFA', amount=1382.7319),), Cedears=(), Bonos=(), Corporativos=())\n",
      "2020-09-17 00:00:00, State: State(Fondos=(instrument_t(name='BCRFA', amount=1382.7319),), Cedears=(), Bonos=(), Corporativos=())\n",
      "2020-09-17 00:00:00, State: State(Fondos=(instrument_t(name='BCRFA', amount=1382.7319),), Cedears=(), Bonos=(), Corporativos=())\n",
      "2020-10-05 00:00:00, State: State(Fondos=(instrument_t(name='BCRFA', amount=2404.4746),), Cedears=(), Bonos=(), Corporativos=())\n",
      "2020-10-05 00:00:00, State: State(Fondos=(instrument_t(name='BCRFA', amount=2404.4746),), Cedears=(), Bonos=(), Corporativos=())\n",
      "2020-10-05 00:00:00, State: State(Fondos=(instrument_t(name='BCRFA', amount=2404.4746),), Cedears=(), Bonos=(), Corporativos=())\n",
      "2020-10-27 00:00:00, State: State(Fondos=(), Cedears=(), Bonos=(), Corporativos=())\n",
      "2020-10-27 00:00:00, State: State(Fondos=(instrument_t(name='BRTA', amount=1450.8691),), Cedears=(), Bonos=(), Corporativos=())\n",
      "2020-11-04 00:00:00, State: State(Fondos=(instrument_t(name='BRTA', amount=1450.8691),), Cedears=(), Bonos=(), Corporativos=())\n",
      "2020-11-05 00:00:00, State: State(Fondos=(instrument_t(name='BRTA', amount=1772.7821),), Cedears=(), Bonos=(), Corporativos=())\n",
      "2020-11-05 00:00:00, State: State(Fondos=(instrument_t(name='BRTA', amount=1772.7821),), Cedears=(), Bonos=(), Corporativos=())\n",
      "2020-12-04 00:00:00, State: State(Fondos=(instrument_t(name='BRTA', amount=1772.7821), instrument_t(name='BCACCA', amount=3174.151739)), Cedears=(), Bonos=(), Corporativos=())\n",
      "2020-12-04 00:00:00, State: State(Fondos=(instrument_t(name='BRTA', amount=1772.7821), instrument_t(name='BCACCA', amount=3174.151739)), Cedears=(), Bonos=(), Corporativos=())\n",
      "2020-12-04 00:00:00, State: State(Fondos=(instrument_t(name='BRTA', amount=1772.7821), instrument_t(name='BCACCA', amount=3174.151739)), Cedears=(), Bonos=(), Corporativos=())\n",
      "2020-12-16 00:00:00, State: State(Fondos=(instrument_t(name='BRTA', amount=1772.7821),), Cedears=(), Bonos=(), Corporativos=())\n",
      "2020-12-16 00:00:00, State: State(Fondos=(instrument_t(name='BRTA', amount=2159.7971),), Cedears=(), Bonos=(), Corporativos=())\n",
      "2021-01-04 00:00:00, State: State(Fondos=(instrument_t(name='BRTA', amount=2159.7971),), Cedears=(), Bonos=(), Corporativos=())\n",
      "2021-01-04 00:00:00, State: State(Fondos=(instrument_t(name='BRTA', amount=3729.1605999999997),), Cedears=(), Bonos=(), Corporativos=())\n",
      "2021-01-04 00:00:00, State: State(Fondos=(instrument_t(name='BRTA', amount=3729.1605999999997),), Cedears=(), Bonos=(), Corporativos=())\n",
      "2021-01-13 00:00:00, State: State(Fondos=(instrument_t(name='BRTA', amount=2565.9478999999997),), Cedears=(), Bonos=(), Corporativos=())\n",
      "2021-01-19 00:00:00, State: State(Fondos=(instrument_t(name='BRTA', amount=2179.9365999999995),), Cedears=(), Bonos=(), Corporativos=())\n",
      "2021-02-04 00:00:00, State: State(Fondos=(instrument_t(name='BRTA', amount=2179.9365999999995),), Cedears=(), Bonos=(), Corporativos=())\n",
      "2021-02-04 00:00:00, State: State(Fondos=(instrument_t(name='BRTA', amount=2179.9365999999995),), Cedears=(), Bonos=(), Corporativos=())\n",
      "2021-02-04 00:00:00, State: State(Fondos=(instrument_t(name='BRTA', amount=2179.9365999999995),), Cedears=(), Bonos=(), Corporativos=())\n",
      "2021-02-05 00:00:00, State: State(Fondos=(instrument_t(name='BRTA', amount=4910.3591),), Cedears=(), Bonos=(), Corporativos=())\n",
      "2021-02-05 00:00:00, State: State(Fondos=(instrument_t(name='BRTA', amount=4910.3591),), Cedears=(), Bonos=(), Corporativos=())\n",
      "2021-02-19 00:00:00, State: State(Fondos=(instrument_t(name='BRTA', amount=4689.827499999999),), Cedears=(), Bonos=(), Corporativos=())\n",
      "2021-03-01 00:00:00, State: State(Fondos=(instrument_t(name='BRTA', amount=4541.6064),), Cedears=(), Bonos=(), Corporativos=())\n",
      "2021-03-02 00:00:00, State: State(Fondos=(instrument_t(name='BRTA', amount=4541.6064),), Cedears=(), Bonos=(), Corporativos=())\n",
      "2021-03-04 00:00:00, State: State(Fondos=(instrument_t(name='BRTA', amount=4541.6064), instrument_t(name='INSTITUA', amount=19403.450246)), Cedears=(), Bonos=(), Corporativos=())\n",
      "2021-03-04 00:00:00, State: State(Fondos=(instrument_t(name='BRTA', amount=4541.6064), instrument_t(name='INSTITUA', amount=19403.450246)), Cedears=(), Bonos=(), Corporativos=())\n",
      "2021-03-31 00:00:00, State: State(Fondos=(instrument_t(name='BRTA', amount=4541.6064), instrument_t(name='INSTITUA', amount=19403.450246), instrument_t(name='BCAHA', amount=6048.102525)), Cedears=(), Bonos=(), Corporativos=())\n",
      "2021-03-31 00:00:00, State: State(Fondos=(instrument_t(name='BRTA', amount=4541.6064), instrument_t(name='INSTITUA', amount=19403.450246), instrument_t(name='BCAHA', amount=6048.102525)), Cedears=(), Bonos=(), Corporativos=())\n",
      "2021-03-31 00:00:00, State: State(Fondos=(instrument_t(name='BRTA', amount=4541.6064), instrument_t(name='INSTITUA', amount=19403.450246), instrument_t(name='BCAHA', amount=6048.102525)), Cedears=(), Bonos=(), Corporativos=())\n",
      "2021-03-31 00:00:00, State: State(Fondos=(instrument_t(name='BRTA', amount=4541.6064), instrument_t(name='INSTITUA', amount=19403.450246), instrument_t(name='BCAHA', amount=6048.102525)), Cedears=(), Bonos=(), Corporativos=())\n",
      "2021-04-30 00:00:00, State: State(Fondos=(instrument_t(name='BRTA', amount=4541.6064), instrument_t(name='BCAHA', amount=6048.102525), instrument_t(name='INSTITUA', amount=28790.945393)), Cedears=(), Bonos=(), Corporativos=())\n",
      "2021-04-30 00:00:00, State: State(Fondos=(instrument_t(name='BCAHA', amount=6048.102525), instrument_t(name='INSTITUA', amount=28790.945393), instrument_t(name='BRTA', amount=6130.807124)), Cedears=(), Bonos=(), Corporativos=())\n",
      "2021-04-30 00:00:00, State: State(Fondos=(instrument_t(name='BCAHA', amount=6048.102525), instrument_t(name='INSTITUA', amount=28790.945393), instrument_t(name='BRTA', amount=6130.807124)), Cedears=(), Bonos=(), Corporativos=())\n",
      "2021-04-30 00:00:00, State: State(Fondos=(instrument_t(name='BCAHA', amount=6048.102525), instrument_t(name='INSTITUA', amount=28790.945393), instrument_t(name='BRTA', amount=6130.807124)), Cedears=(), Bonos=(), Corporativos=())\n",
      "2021-04-30 00:00:00, State: State(Fondos=(instrument_t(name='BCAHA', amount=6048.102525), instrument_t(name='INSTITUA', amount=28790.945393), instrument_t(name='BRTA', amount=6130.807124)), Cedears=(), Bonos=(), Corporativos=())\n",
      "2021-05-31 00:00:00, State: State(Fondos=(instrument_t(name='BCAHA', amount=6048.102525), instrument_t(name='BRTA', amount=6130.807124), instrument_t(name='INSTITUA', amount=34774.213781)), Cedears=(), Bonos=(), Corporativos=())\n",
      "2021-05-31 00:00:00, State: State(Fondos=(instrument_t(name='BCAHA', amount=6048.102525), instrument_t(name='INSTITUA', amount=34774.213781), instrument_t(name='BRTA', amount=7121.567949)), Cedears=(), Bonos=(), Corporativos=())\n",
      "2021-05-31 00:00:00, State: State(Fondos=(instrument_t(name='INSTITUA', amount=34774.213781), instrument_t(name='BRTA', amount=7121.567949), instrument_t(name='BCAHA', amount=7468.877955)), Cedears=(), Bonos=(), Corporativos=())\n",
      "2021-05-31 00:00:00, State: State(Fondos=(instrument_t(name='INSTITUA', amount=34774.213781), instrument_t(name='BRTA', amount=7121.567949), instrument_t(name='BCAHA', amount=7468.877955)), Cedears=(), Bonos=(), Corporativos=())\n",
      "2021-05-31 00:00:00, State: State(Fondos=(instrument_t(name='INSTITUA', amount=34774.213781), instrument_t(name='BRTA', amount=7121.567949), instrument_t(name='BCAHA', amount=7468.877955)), Cedears=(), Bonos=(), Corporativos=())\n",
      "2021-05-31 00:00:00, State: State(Fondos=(instrument_t(name='INSTITUA', amount=34774.213781), instrument_t(name='BRTA', amount=7121.567949), instrument_t(name='BCAHA', amount=7468.877955)), Cedears=(), Bonos=(), Corporativos=())\n",
      "2021-05-31 00:00:00, State: State(Fondos=(instrument_t(name='INSTITUA', amount=34774.213781), instrument_t(name='BRTA', amount=7121.567949), instrument_t(name='BCAHA', amount=7468.877955)), Cedears=(), Bonos=(), Corporativos=())\n",
      "2021-07-30 00:00:00, State: State(Fondos=(instrument_t(name='BRTA', amount=7121.567949), instrument_t(name='BCAHA', amount=7468.877955), instrument_t(name='INSTITUA', amount=45930.887507)), Cedears=(), Bonos=(), Corporativos=())\n",
      "2021-07-30 00:00:00, State: State(Fondos=(instrument_t(name='BCAHA', amount=7468.877955), instrument_t(name='INSTITUA', amount=45930.887507), instrument_t(name='BRTA', amount=8951.703044)), Cedears=(), Bonos=(), Corporativos=())\n",
      "2021-07-30 00:00:00, State: State(Fondos=(instrument_t(name='BCAHA', amount=7468.877955), instrument_t(name='INSTITUA', amount=45930.887507), instrument_t(name='BRTA', amount=8951.703044)), Cedears=(), Bonos=(), Corporativos=())\n",
      "2021-07-30 00:00:00, State: State(Fondos=(instrument_t(name='BCAHA', amount=7468.877955), instrument_t(name='INSTITUA', amount=45930.887507), instrument_t(name='BRTA', amount=8951.703044)), Cedears=(), Bonos=(), Corporativos=())\n",
      "2021-07-30 00:00:00, State: State(Fondos=(instrument_t(name='BCAHA', amount=7468.877955), instrument_t(name='INSTITUA', amount=45930.887507), instrument_t(name='BRTA', amount=8951.703044)), Cedears=(), Bonos=(), Corporativos=())\n",
      "2021-08-24 00:00:00, State: State(Fondos=(instrument_t(name='INSTITUA', amount=45930.887507), instrument_t(name='BRTA', amount=8951.703044), instrument_t(name='BCAHA', amount=2875.1296919999995)), Cedears=(), Bonos=(), Corporativos=())\n",
      "2021-09-02 00:00:00, State: State(Fondos=(instrument_t(name='INSTITUA', amount=45930.887507), instrument_t(name='BRTA', amount=8951.703044)), Cedears=(), Bonos=(), Corporativos=())\n",
      "2021-09-02 00:00:00, State: State(Fondos=(instrument_t(name='INSTITUA', amount=45930.887507), instrument_t(name='BRTA', amount=8951.703044), instrument_t(name='BCACCA', amount=10475.688491)), Cedears=(), Bonos=(), Corporativos=())\n",
      "2021-09-06 00:00:00, State: State(Fondos=(instrument_t(name='INSTITUA', amount=45930.887507), instrument_t(name='BCACCA', amount=10475.688491), instrument_t(name='BRTA', amount=8659.923461)), Cedears=(), Bonos=(), Corporativos=())\n",
      "2021-09-06 00:00:00, State: State(Fondos=(instrument_t(name='INSTITUA', amount=45930.887507), instrument_t(name='BCACCA', amount=10475.688491), instrument_t(name='BRTA', amount=5742.127632)), Cedears=(), Bonos=(), Corporativos=())\n",
      "2021-09-06 00:00:00, State: State(Fondos=(instrument_t(name='BCACCA', amount=10475.688491), instrument_t(name='BRTA', amount=5742.127632), instrument_t(name='INSTITUA', amount=32353.693283)), Cedears=(), Bonos=(), Corporativos=())\n",
      "2021-09-02 00:00:00, State: State(Fondos=(instrument_t(name='BCACCA', amount=10475.688491), instrument_t(name='BRTA', amount=5742.127632), instrument_t(name='INSTITUA', amount=32353.693283)), Cedears=(), Bonos=(), Corporativos=())\n",
      "2021-09-06 00:00:00, State: State(Fondos=(instrument_t(name='BCACCA', amount=10475.688491), instrument_t(name='BRTA', amount=5742.127632), instrument_t(name='INSTITUA', amount=32353.693283)), Cedears=(), Bonos=(), Corporativos=())\n",
      "2021-09-06 00:00:00, State: State(Fondos=(instrument_t(name='BCACCA', amount=10475.688491), instrument_t(name='BRTA', amount=5742.127632), instrument_t(name='INSTITUA', amount=32353.693283)), Cedears=(), Bonos=(), Corporativos=())\n",
      "2021-09-06 00:00:00, State: State(Fondos=(instrument_t(name='BCACCA', amount=10475.688491), instrument_t(name='BRTA', amount=5742.127632), instrument_t(name='INSTITUA', amount=32353.693283)), Cedears=(), Bonos=(), Corporativos=())\n",
      "2021-09-06 00:00:00, State: State(Fondos=(instrument_t(name='BCACCA', amount=10475.688491), instrument_t(name='BRTA', amount=5742.127632), instrument_t(name='INSTITUA', amount=32353.693283)), Cedears=(instrument_t(name='BRKB', amount=20.0),), Bonos=(), Corporativos=())\n",
      "2021-09-06 00:00:00, State: State(Fondos=(instrument_t(name='BCACCA', amount=10475.688491), instrument_t(name='BRTA', amount=5742.127632), instrument_t(name='INSTITUA', amount=32353.693283)), Cedears=(instrument_t(name='BRKB', amount=20.0), instrument_t(name='TSM', amount=1.0)), Bonos=(), Corporativos=())\n",
      "2021-09-06 00:00:00, State: State(Fondos=(instrument_t(name='BCACCA', amount=10475.688491), instrument_t(name='BRTA', amount=5742.127632), instrument_t(name='INSTITUA', amount=32353.693283)), Cedears=(instrument_t(name='BRKB', amount=20.0), instrument_t(name='TSM', amount=1.0), instrument_t(name='V', amount=8.0)), Bonos=(), Corporativos=())\n",
      "2021-09-06 00:00:00, State: State(Fondos=(instrument_t(name='BCACCA', amount=10475.688491), instrument_t(name='BRTA', amount=5742.127632), instrument_t(name='INSTITUA', amount=32353.693283)), Cedears=(instrument_t(name='BRKB', amount=20.0), instrument_t(name='TSM', amount=1.0), instrument_t(name='V', amount=8.0), instrument_t(name='TSLA', amount=6.0)), Bonos=(), Corporativos=())\n",
      "2021-09-03 00:00:00, State: State(Fondos=(instrument_t(name='BCACCA', amount=10475.688491), instrument_t(name='BRTA', amount=5742.127632), instrument_t(name='INSTITUA', amount=35391.221942000004)), Cedears=(instrument_t(name='BRKB', amount=20.0), instrument_t(name='TSM', amount=1.0), instrument_t(name='V', amount=8.0), instrument_t(name='TSLA', amount=6.0)), Bonos=(), Corporativos=())\n",
      "2021-09-03 00:00:00, State: State(Fondos=(instrument_t(name='BCACCA', amount=10475.688491), instrument_t(name='BRTA', amount=5742.127632), instrument_t(name='INSTITUA', amount=35391.221942000004)), Cedears=(instrument_t(name='BRKB', amount=20.0), instrument_t(name='TSM', amount=1.0), instrument_t(name='V', amount=8.0), instrument_t(name='TSLA', amount=6.0)), Bonos=(), Corporativos=())\n",
      "2021-09-30 00:00:00, State: State(Fondos=(instrument_t(name='BCACCA', amount=10475.688491), instrument_t(name='BRTA', amount=5742.127632), instrument_t(name='INSTITUA', amount=35391.221942000004)), Cedears=(instrument_t(name='BRKB', amount=20.0), instrument_t(name='TSM', amount=1.0), instrument_t(name='V', amount=8.0), instrument_t(name='TSLA', amount=6.0)), Bonos=(), Corporativos=())\n",
      "2021-10-04 00:00:00, State: State(Fondos=(instrument_t(name='BCACCA', amount=10475.688491), instrument_t(name='BRTA', amount=5742.127632), instrument_t(name='INSTITUA', amount=37138.160737000006)), Cedears=(instrument_t(name='BRKB', amount=20.0), instrument_t(name='TSM', amount=1.0), instrument_t(name='V', amount=8.0), instrument_t(name='TSLA', amount=6.0)), Bonos=(), Corporativos=())\n",
      "2021-10-04 00:00:00, State: State(Fondos=(instrument_t(name='BCACCA', amount=10475.688491), instrument_t(name='BRTA', amount=5742.127632), instrument_t(name='INSTITUA', amount=37138.160737000006)), Cedears=(instrument_t(name='BRKB', amount=20.0), instrument_t(name='TSM', amount=1.0), instrument_t(name='V', amount=8.0), instrument_t(name='TSLA', amount=6.0)), Bonos=(), Corporativos=())\n",
      "2021-10-07 00:00:00, State: State(Fondos=(instrument_t(name='BCACCA', amount=10475.688491), instrument_t(name='INSTITUA', amount=37138.160737000006), instrument_t(name='BRTA', amount=3921.3649659999996)), Cedears=(instrument_t(name='BRKB', amount=20.0), instrument_t(name='TSM', amount=1.0), instrument_t(name='V', amount=8.0), instrument_t(name='TSLA', amount=6.0)), Bonos=(), Corporativos=())\n",
      "2021-10-15 00:00:00, State: State(Fondos=(instrument_t(name='BCACCA', amount=10475.688491), instrument_t(name='INSTITUA', amount=37138.160737000006), instrument_t(name='BRTA', amount=3921.3649659999996)), Cedears=(instrument_t(name='BRKB', amount=20.0), instrument_t(name='TSM', amount=1.0), instrument_t(name='V', amount=8.0), instrument_t(name='TSLA', amount=6.0)), Bonos=(), Corporativos=())\n",
      "2021-10-15 00:00:00, State: State(Fondos=(instrument_t(name='BCACCA', amount=10475.688491), instrument_t(name='INSTITUA', amount=37138.160737000006), instrument_t(name='BRTA', amount=3921.3649659999996)), Cedears=(instrument_t(name='BRKB', amount=20.0), instrument_t(name='TSM', amount=1.0), instrument_t(name='V', amount=8.0), instrument_t(name='TSLA', amount=6.0)), Bonos=(), Corporativos=())\n",
      "2021-11-10 00:00:00, State: State(Fondos=(instrument_t(name='BCACCA', amount=10475.688491), instrument_t(name='BRTA', amount=3921.3649659999996), instrument_t(name='INSTITUA', amount=27991.829414000007)), Cedears=(instrument_t(name='BRKB', amount=20.0), instrument_t(name='TSM', amount=1.0), instrument_t(name='V', amount=8.0), instrument_t(name='TSLA', amount=6.0)), Bonos=(), Corporativos=())\n",
      "2021-11-10 00:00:00, State: State(Fondos=(instrument_t(name='BCACCA', amount=10475.688491), instrument_t(name='BRTA', amount=3921.3649659999996), instrument_t(name='INSTITUA', amount=27991.829414000007)), Cedears=(instrument_t(name='BRKB', amount=20.0), instrument_t(name='TSM', amount=1.0), instrument_t(name='V', amount=8.0), instrument_t(name='TSLA', amount=6.0)), Bonos=(), Corporativos=())\n",
      "2021-11-10 00:00:00, State: State(Fondos=(instrument_t(name='BCACCA', amount=10475.688491), instrument_t(name='BRTA', amount=3921.3649659999996), instrument_t(name='INSTITUA', amount=27991.829414000007)), Cedears=(instrument_t(name='BRKB', amount=20.0), instrument_t(name='TSM', amount=1.0), instrument_t(name='V', amount=8.0), instrument_t(name='TSLA', amount=6.0)), Bonos=(), Corporativos=())\n",
      "2021-12-10 00:00:00, State: State(Fondos=(instrument_t(name='BCACCA', amount=10475.688491), instrument_t(name='BRTA', amount=3921.3649659999996), instrument_t(name='INSTITUA', amount=27991.829414000007)), Cedears=(instrument_t(name='BRKB', amount=20.0), instrument_t(name='TSM', amount=1.0), instrument_t(name='V', amount=8.0), instrument_t(name='TSLA', amount=6.0)), Bonos=(), Corporativos=())\n",
      "2021-12-10 00:00:00, State: State(Fondos=(instrument_t(name='BCACCA', amount=10475.688491), instrument_t(name='BRTA', amount=3921.3649659999996), instrument_t(name='INSTITUA', amount=27991.829414000007)), Cedears=(instrument_t(name='BRKB', amount=20.0), instrument_t(name='TSM', amount=1.0), instrument_t(name='V', amount=8.0), instrument_t(name='TSLA', amount=6.0)), Bonos=(), Corporativos=())\n",
      "2022-01-14 00:00:00, State: State(Fondos=(instrument_t(name='BCACCA', amount=10475.688491), instrument_t(name='BRTA', amount=3921.3649659999996), instrument_t(name='INSTITUA', amount=27991.829414000007)), Cedears=(instrument_t(name='BRKB', amount=20.0), instrument_t(name='TSM', amount=1.0), instrument_t(name='V', amount=8.0), instrument_t(name='TSLA', amount=6.0)), Bonos=(), Corporativos=())\n",
      "2022-01-14 00:00:00, State: State(Fondos=(instrument_t(name='BCACCA', amount=10475.688491), instrument_t(name='BRTA', amount=3921.3649659999996), instrument_t(name='INSTITUA', amount=27991.829414000007)), Cedears=(instrument_t(name='BRKB', amount=20.0), instrument_t(name='TSM', amount=1.0), instrument_t(name='V', amount=8.0), instrument_t(name='TSLA', amount=6.0)), Bonos=(), Corporativos=())\n",
      "2022-03-03 00:00:00, State: State(Fondos=(instrument_t(name='BCACCA', amount=10475.688491), instrument_t(name='BRTA', amount=3921.3649659999996), instrument_t(name='INSTITUA', amount=27991.829414000007)), Cedears=(instrument_t(name='BRKB', amount=20.0), instrument_t(name='TSM', amount=1.0), instrument_t(name='V', amount=8.0), instrument_t(name='TSLA', amount=6.0)), Bonos=(), Corporativos=())\n",
      "2022-03-03 00:00:00, State: State(Fondos=(instrument_t(name='BCACCA', amount=10475.688491), instrument_t(name='BRTA', amount=3921.3649659999996), instrument_t(name='INSTITUA', amount=27991.829414000007)), Cedears=(instrument_t(name='BRKB', amount=20.0), instrument_t(name='TSM', amount=1.0), instrument_t(name='V', amount=8.0), instrument_t(name='TSLA', amount=6.0)), Bonos=(), Corporativos=())\n",
      "2022-04-19 00:00:00, State: State(Fondos=(instrument_t(name='BCACCA', amount=10475.688491), instrument_t(name='BRTA', amount=3921.3649659999996), instrument_t(name='INSTITUA', amount=27991.829414000007)), Cedears=(instrument_t(name='BRKB', amount=20.0), instrument_t(name='TSM', amount=1.0), instrument_t(name='V', amount=8.0), instrument_t(name='TSLA', amount=6.0)), Bonos=(), Corporativos=())\n",
      "2022-04-19 00:00:00, State: State(Fondos=(instrument_t(name='BCACCA', amount=10475.688491), instrument_t(name='BRTA', amount=3921.3649659999996), instrument_t(name='INSTITUA', amount=27991.829414000007)), Cedears=(instrument_t(name='BRKB', amount=20.0), instrument_t(name='TSM', amount=1.0), instrument_t(name='V', amount=8.0), instrument_t(name='TSLA', amount=6.0)), Bonos=(), Corporativos=())\n",
      "2022-06-02 00:00:00, State: State(Fondos=(instrument_t(name='BCACCA', amount=10475.688491), instrument_t(name='BRTA', amount=3921.3649659999996), instrument_t(name='INSTITUA', amount=27991.829414000007)), Cedears=(instrument_t(name='BRKB', amount=20.0), instrument_t(name='TSM', amount=1.0), instrument_t(name='V', amount=8.0), instrument_t(name='TSLA', amount=6.0)), Bonos=(), Corporativos=())\n",
      "2022-06-02 00:00:00, State: State(Fondos=(instrument_t(name='BCACCA', amount=10475.688491), instrument_t(name='BRTA', amount=3921.3649659999996), instrument_t(name='INSTITUA', amount=27991.829414000007)), Cedears=(instrument_t(name='BRKB', amount=20.0), instrument_t(name='TSM', amount=1.0), instrument_t(name='V', amount=8.0), instrument_t(name='TSLA', amount=6.0)), Bonos=(), Corporativos=())\n",
      "2022-06-06 00:00:00, State: State(Fondos=(instrument_t(name='BCACCA', amount=10475.688491), instrument_t(name='BRTA', amount=3921.3649659999996), instrument_t(name='INSTITUA', amount=27991.829414000007)), Cedears=(instrument_t(name='BRKB', amount=20.0), instrument_t(name='TSM', amount=1.0), instrument_t(name='V', amount=8.0), instrument_t(name='TSLA', amount=6.0)), Bonos=(), Corporativos=())\n"
     ]
    },
    {
     "ename": "Exception",
     "evalue": "('No matching function found for operation type:', 'Movimiento Manual / Conversión CV 7.000 a CV 10.000 (dólar MEP)')",
     "output_type": "error",
     "traceback": [
      "\u001b[0;31m---------------------------------------------------------------------------\u001b[0m",
      "\u001b[0;31mException\u001b[0m                                 Traceback (most recent call last)",
      "Cell \u001b[0;32mIn[5], line 8\u001b[0m\n\u001b[1;32m      4\u001b[0m \u001b[38;5;66;03m# Iterate through all rows of the DataFrame\u001b[39;00m\n\u001b[1;32m      5\u001b[0m \u001b[38;5;28;01mfor\u001b[39;00m index, row \u001b[38;5;129;01min\u001b[39;00m df[::\u001b[38;5;241m-\u001b[39m\u001b[38;5;241m1\u001b[39m]\u001b[38;5;241m.\u001b[39miterrows():\n\u001b[1;32m      6\u001b[0m     \n\u001b[1;32m      7\u001b[0m     \u001b[38;5;66;03m# Call the update_state function for each row\u001b[39;00m\n\u001b[0;32m----> 8\u001b[0m     next_state \u001b[38;5;241m=\u001b[39m \u001b[43mupdate_state\u001b[49m\u001b[43m(\u001b[49m\u001b[43mrow\u001b[49m\u001b[43m,\u001b[49m\u001b[43m \u001b[49m\u001b[43mcurrent_state\u001b[49m\u001b[43m)\u001b[49m\n\u001b[1;32m     10\u001b[0m     \u001b[38;5;66;03m# Update the current state to the next state\u001b[39;00m\n\u001b[1;32m     11\u001b[0m     current_state \u001b[38;5;241m=\u001b[39m next_state\n",
      "File \u001b[0;32m~/dev/finance/balanz_analysis/compute_state.py:45\u001b[0m, in \u001b[0;36mupdate_state\u001b[0;34m(row, current_state)\u001b[0m\n\u001b[1;32m     42\u001b[0m \u001b[38;5;28;01mdef\u001b[39;00m \u001b[38;5;21mupdate_state\u001b[39m(row: pd\u001b[38;5;241m.\u001b[39mDataFrame, current_state: State) \u001b[38;5;241m-\u001b[39m\u001b[38;5;241m>\u001b[39m State:\n\u001b[1;32m     43\u001b[0m     operation_type \u001b[38;5;241m=\u001b[39m row[\u001b[38;5;124m'\u001b[39m\u001b[38;5;124mDescripcion\u001b[39m\u001b[38;5;124m'\u001b[39m]\n\u001b[0;32m---> 45\u001b[0m     operation_function \u001b[38;5;241m=\u001b[39m \u001b[43mget_operation_function\u001b[49m\u001b[43m(\u001b[49m\u001b[43moperation_functions\u001b[49m\u001b[43m,\u001b[49m\u001b[43m \u001b[49m\u001b[43moperation_type\u001b[49m\u001b[43m)\u001b[49m\n\u001b[1;32m     46\u001b[0m     new_state \u001b[38;5;241m=\u001b[39m operation_function(row, current_state)\n\u001b[1;32m     47\u001b[0m     \u001b[38;5;28mprint\u001b[39m(\u001b[38;5;124mf\u001b[39m\u001b[38;5;124m'\u001b[39m\u001b[38;5;132;01m{\u001b[39;00mrow[\u001b[38;5;124m\"\u001b[39m\u001b[38;5;124mLiquidacion\u001b[39m\u001b[38;5;124m\"\u001b[39m]\u001b[38;5;132;01m}\u001b[39;00m\u001b[38;5;124m, State: \u001b[39m\u001b[38;5;132;01m{\u001b[39;00mnew_state\u001b[38;5;132;01m}\u001b[39;00m\u001b[38;5;124m'\u001b[39m)\n",
      "File \u001b[0;32m~/dev/finance/balanz_analysis/compute_state.py:15\u001b[0m, in \u001b[0;36mget_operation_function\u001b[0;34m(operation_functions, operation_type)\u001b[0m\n\u001b[1;32m     12\u001b[0m         matching_functions\u001b[38;5;241m.\u001b[39mappend(func)\n\u001b[1;32m     14\u001b[0m \u001b[38;5;28;01mif\u001b[39;00m \u001b[38;5;129;01mnot\u001b[39;00m matching_functions:\n\u001b[0;32m---> 15\u001b[0m     \u001b[38;5;28;01mraise\u001b[39;00m \u001b[38;5;167;01mException\u001b[39;00m(\u001b[38;5;124m\"\u001b[39m\u001b[38;5;124mNo matching function found for operation type:\u001b[39m\u001b[38;5;124m\"\u001b[39m, operation_type)\n\u001b[1;32m     16\u001b[0m \u001b[38;5;28;01melif\u001b[39;00m \u001b[38;5;28mlen\u001b[39m(matching_functions) \u001b[38;5;241m>\u001b[39m \u001b[38;5;241m1\u001b[39m:\n\u001b[1;32m     17\u001b[0m     \u001b[38;5;28;01mraise\u001b[39;00m \u001b[38;5;167;01mException\u001b[39;00m(\u001b[38;5;124m\"\u001b[39m\u001b[38;5;124mMore than one function matched for operation type:\u001b[39m\u001b[38;5;124m\"\u001b[39m, operation_type)\n",
      "\u001b[0;31mException\u001b[0m: ('No matching function found for operation type:', 'Movimiento Manual / Conversión CV 7.000 a CV 10.000 (dólar MEP)')"
     ]
    }
   ],
   "source": [
    "# Create a State tuple containing the Balance tuple\n",
    "current_state = State(Fondos=tuple(), Cedears=tuple(), Bonos=tuple(), Corporativos=tuple())\n",
    "\n",
    "# Iterate through all rows of the DataFrame\n",
    "for index, row in df[::-1].iterrows():\n",
    "    \n",
    "    # Call the update_state function for each row\n",
    "    next_state = update_state(row, current_state)\n",
    "    \n",
    "    # Update the current state to the next state\n",
    "    current_state = next_state\n",
    "\n",
    "current_state"
   ]
  }
 ],
 "metadata": {
  "kernelspec": {
   "display_name": "Python 3 (ipykernel)",
   "language": "python",
   "name": "python3"
  },
  "language_info": {
   "codemirror_mode": {
    "name": "ipython",
    "version": 3
   },
   "file_extension": ".py",
   "mimetype": "text/x-python",
   "name": "python",
   "nbconvert_exporter": "python",
   "pygments_lexer": "ipython3",
   "version": "3.12.3"
  }
 },
 "nbformat": 4,
 "nbformat_minor": 5
}
