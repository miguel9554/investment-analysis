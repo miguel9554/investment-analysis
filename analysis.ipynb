{
 "cells": [
  {
   "cell_type": "code",
   "execution_count": null,
   "id": "756547a9-22a0-4eee-95de-d6847d99f9e9",
   "metadata": {},
   "outputs": [],
   "source": [
    "%load_ext autoreload\n",
    "%autoreload 2\n",
    "\n",
    "from pprint import pprint\n",
    "\n",
    "from read_excel import *\n",
    "from compute_state import *\n",
    "from collections import namedtuple\n",
    "from custom_types import *\n",
    "from prices.balanz_fci_price import *\n",
    "from timeseries_analysis import *\n",
    "from datetime import datetime\n",
    "import plotly.express as px\n",
    "import plotly.graph_objs as go\n",
    "from plotly.offline import init_notebook_mode, iplot"
   ]
  },
  {
   "cell_type": "code",
   "execution_count": null,
   "id": "2e965ef8-be50-4b9d-9283-d46aab34d28f",
   "metadata": {},
   "outputs": [],
   "source": [
    "# Example usage:\n",
    "file_path = 'private/movimientos.xlsx'  # Set the filename to 'ordenes.xlsx'\n",
    "df = read_excel_to_dataframe(file_path)\n",
    "print(df.loc[0])"
   ]
  },
  {
   "cell_type": "code",
   "execution_count": null,
   "id": "9a018e1e-e5d8-4a0d-b440-3598291a9251",
   "metadata": {},
   "outputs": [],
   "source": [
    "# Create a State tuple containing the Balance tuple\n",
    "current_state = State(Fondos=tuple(), Cedears=tuple(), Bonos=tuple(), Corporativos=tuple())\n",
    "\n",
    "states_over_time = {}\n",
    "\n",
    "# Iterate through all rows of the DataFrame\n",
    "for index, row in df[::-1].iterrows():\n",
    "    \n",
    "    # Call the update_state function for each row\n",
    "    next_state = update_state(row, current_state)\n",
    "    \n",
    "    # Update the current state to the next state\n",
    "    current_state = next_state\n",
    "\n",
    "    states_over_time[row['Concertacion'].date()] = current_state\n",
    "\n",
    "current_state"
   ]
  },
  {
   "cell_type": "code",
   "execution_count": null,
   "id": "192521ea-3819-49b7-ae28-f0df66955644",
   "metadata": {},
   "outputs": [],
   "source": [
    "fondos_over_time = extract_instrument_from_state(states_over_time, 'Cedears')"
   ]
  },
  {
   "cell_type": "code",
   "execution_count": null,
   "id": "1ee5332b-9285-441e-bdd2-00f0d166a93b",
   "metadata": {},
   "outputs": [],
   "source": [
    "fondos_over_time_df = dict_to_dataframe(fondos_over_time)\n",
    "fondos_over_time_df"
   ]
  },
  {
   "cell_type": "code",
   "execution_count": null,
   "id": "60da6fe9-b5e0-4a91-8908-2a7ed4cea734",
   "metadata": {},
   "outputs": [],
   "source": [
    "fondos_over_time_df.index[0]"
   ]
  },
  {
   "cell_type": "code",
   "execution_count": null,
   "id": "382d0870-30a9-44c9-8898-9525daa52193",
   "metadata": {},
   "outputs": [],
   "source": [
    "# fondos_over_time_df_filtered = fondos_over_time_df.drop(['BCMMA', 'BCAHA', 'BCRFA', 'BRTA', 'BCACCA'], axis=1)\n",
    "fondos_over_time_df_filtered = fondos_over_time_df\n",
    "# fondos_over_time_df_filtered = fondos_over_time_df.INSTITUA\n",
    "fondos_over_time_df_filtered"
   ]
  },
  {
   "cell_type": "code",
   "execution_count": null,
   "id": "88774cfd-63bf-41d0-9535-99d66c6dc42b",
   "metadata": {},
   "outputs": [],
   "source": [
    "FCIs_amounts = fill_missing_days(fondos_over_time_df_filtered)\n",
    "FCIs_amounts"
   ]
  },
  {
   "cell_type": "code",
   "execution_count": null,
   "id": "7276541c-5c2e-43c1-bd26-ad587deef3a8",
   "metadata": {},
   "outputs": [],
   "source": [
    "FCIs_amounts.index[0]"
   ]
  },
  {
   "cell_type": "code",
   "execution_count": null,
   "id": "95848952-0af8-41c3-94ef-cc55efa8a6f5",
   "metadata": {},
   "outputs": [],
   "source": [
    "FCIs_prices = get_cedears_price_df(FCIs_amounts.columns, FCIs_amounts.index)\n",
    "FCIs_prices"
   ]
  },
  {
   "cell_type": "code",
   "execution_count": null,
   "id": "6301292d-2c34-403e-86c5-5d7fea1706cf",
   "metadata": {},
   "outputs": [],
   "source": [
    "FCIs_prices.index[0]"
   ]
  },
  {
   "cell_type": "code",
   "execution_count": null,
   "id": "d870dab2-dc81-478c-8c9b-63f0619887a5",
   "metadata": {},
   "outputs": [],
   "source": [
    "FCIs_values = FCIs_amounts*FCIs_prices\n",
    "FCIs_values"
   ]
  },
  {
   "cell_type": "code",
   "execution_count": null,
   "id": "cb7f6e30-f77b-4357-815b-13482075f637",
   "metadata": {},
   "outputs": [],
   "source": [
    "FCIs_values.index[0]"
   ]
  },
  {
   "cell_type": "code",
   "execution_count": null,
   "id": "b39ced0a-d700-47a5-b99e-5fa7da2ec042",
   "metadata": {},
   "outputs": [],
   "source": [
    "pd.options.plotting.backend = \"plotly\"\n",
    "\n",
    "# Plot using Plotly Express\n",
    "fig = FCIs_values.plot()\n",
    "fig.update_layout(\n",
    "    title=\"CEDEAR position value\",\n",
    "    xaxis_title=\"Date\",\n",
    "S    yaxis_title=\"Value [USD]\"\n",
    ")\n",
    "fig.show()"
   ]
  },
  {
   "cell_type": "code",
   "execution_count": null,
   "id": "005ff423-642a-4297-9535-728866abd927",
   "metadata": {},
   "outputs": [],
   "source": [
    "FCIs_values_dolar = FCIs_values"
   ]
  },
  {
   "cell_type": "code",
   "execution_count": null,
   "id": "51117542-ae26-4e4b-8abd-8bb3a48cdc14",
   "metadata": {},
   "outputs": [],
   "source": [
    "FCIs_values_dolar.index[0]"
   ]
  },
  {
   "cell_type": "code",
   "execution_count": null,
   "id": "f04c9683-55bd-42dc-aa17-131943cf63f9",
   "metadata": {},
   "outputs": [],
   "source": [
    "# Plot using Plotly Express\n",
    "fig = FCIs_values_dolar.plot()\n",
    "fig.update_layout(\n",
    "    title=\"FCI position in dollars\",\n",
    "    xaxis_title=\"Date\",\n",
    "    yaxis_title=\"Value [USD]\"\n",
    ")\n",
    "fig.show()"
   ]
  },
  {
   "cell_type": "code",
   "execution_count": null,
   "id": "ee874476-b3a7-4cd3-a987-b4352c6df1bb",
   "metadata": {},
   "outputs": [],
   "source": [
    "FCIs_deposits = FCIs_amounts.diff().fillna(0)\n",
    "fig = FCIs_deposits.plot()\n",
    "fig.update_layout(\n",
    "    title=\"FCI desposits/extractions\",\n",
    "    xaxis_title=\"Date\",\n",
    "    yaxis_title=\"Value [Units]\"\n",
    ")\n",
    "fig.show()"
   ]
  },
  {
   "cell_type": "code",
   "execution_count": null,
   "id": "bc7ed5e5-1c13-41d1-ab9f-4f52553b3129",
   "metadata": {},
   "outputs": [],
   "source": [
    "FCI_deposits_values = FCIs_deposits*FCIs_prices\n",
    "fig = FCI_deposits_values.plot()\n",
    "fig.update_layout(\n",
    "    title=\"FCI desposits/extractions\",\n",
    "    xaxis_title=\"Date\",\n",
    "    yaxis_title=\"Value [ARS]\"\n",
    ")\n",
    "fig.show()"
   ]
  },
  {
   "cell_type": "code",
   "execution_count": null,
   "id": "b08d17f0-6988-4412-ab62-208d55000011",
   "metadata": {},
   "outputs": [],
   "source": [
    "FCI_deposits_values_dolar = FCI_deposits_values\n",
    "fig = FCI_deposits_values_dolar.plot()\n",
    "fig.update_layout(\n",
    "    title=\"FCI desposits/extractions\",\n",
    "    xaxis_title=\"Date\",\n",
    "    yaxis_title=\"Value [USD]\"\n",
    ")\n",
    "fig.show()"
   ]
  },
  {
   "cell_type": "code",
   "execution_count": null,
   "id": "6d91a1ff-0f36-4e41-86cf-02f6fb19b412",
   "metadata": {},
   "outputs": [],
   "source": [
    "FCI_deposits_values_dolar_cumulative = FCI_deposits_values.cumsum()\n",
    "fig = FCI_deposits_values_dolar_cumulative.plot()\n",
    "fig.update_layout(\n",
    "    title=\"FCI cumulative value\",\n",
    "    xaxis_title=\"Date\",\n",
    "    yaxis_title=\"Value [USD]\"\n",
    ")\n",
    "fig.show()"
   ]
  },
  {
   "cell_type": "code",
   "execution_count": null,
   "id": "fd0668ea-d6cc-4143-9876-8d366c1677ee",
   "metadata": {},
   "outputs": [],
   "source": [
    "FCIs_yield = FCIs_values_dolar-FCI_deposits_values_dolar_cumulative\n",
    "fig = FCIs_yield.plot()\n",
    "fig.update_layout(\n",
    "    title=\"FCI total balance\",\n",
    "    xaxis_title=\"Date\",\n",
    "    yaxis_title=\"Balance [USD]\"\n",
    ")\n",
    "fig.show()"
   ]
  },
  {
   "cell_type": "code",
   "execution_count": null,
   "id": "7de1a909-7376-48b5-9f2d-6ef38d7bad5b",
   "metadata": {},
   "outputs": [],
   "source": [
    "FCIs_yield_percent = FCIs_yield.div(FCI_deposits_values_dolar_cumulative.iloc[:, 0], axis=0)*100\n",
    "fig = FCIs_yield_percent.plot()\n",
    "fig.show()"
   ]
  },
  {
   "cell_type": "code",
   "execution_count": null,
   "id": "6624de2c-08ab-4ee7-9e4b-4c51f58813b3",
   "metadata": {},
   "outputs": [],
   "source": [
    "FCIs_yield_percent.mean()"
   ]
  },
  {
   "cell_type": "code",
   "execution_count": null,
   "id": "7a67fa1f-a925-4cb9-accc-02cc313e502a",
   "metadata": {},
   "outputs": [],
   "source": [
    "FCI_deposits_values_dolar"
   ]
  },
  {
   "cell_type": "code",
   "execution_count": null,
   "id": "3d1dc2cb-cef2-43a1-b588-b6fe59a03ed1",
   "metadata": {},
   "outputs": [],
   "source": [
    "xirr_interest = calculate_interest(FCI_deposits_values_dolar, FCIs_values_dolar)\n",
    "fig = xirr_interest.plot()\n",
    "fig.update_yaxes(range=[-400, 400])  # Set y-axis limits\n",
    "fig.show()"
   ]
  },
  {
   "cell_type": "code",
   "execution_count": null,
   "id": "bcb624f7-864a-43ab-9b40-b28a72142dad",
   "metadata": {},
   "outputs": [],
   "source": [
    "fig = xirr_interest.plot()\n",
    "fig.update_yaxes(range=[-100, 4000])  # Set y-axis limits\n",
    "fig.show()"
   ]
  },
  {
   "cell_type": "code",
   "execution_count": null,
   "id": "ec797ba0-dc12-434a-bba3-a5d23b8f6f63",
   "metadata": {},
   "outputs": [],
   "source": [
    "df1 = xirr_interest\n",
    "df2 = FCIs_yield_percent\n",
    "\n",
    "# Assuming df1 and df2 are your DataFrames\n",
    "fig = go.Figure()\n",
    "\n",
    "# Add traces for each DataFrame\n",
    "fig.add_trace(go.Scatter(x=df1.index, y=df1['INSTITUA'], mode='lines', name='XIRR interest'))\n",
    "fig.add_trace(go.Scatter(x=df2.index, y=df2['INSTITUA'], mode='lines', name='Percentage interest'))\n",
    "\n",
    "# Update layout and show the figure\n",
    "fig.update_layout(\n",
    "    title='Comparison of Two DataFrames',\n",
    "    xaxis_title='Date',\n",
    "    yaxis_title='INSTITUA',\n",
    "    legend_title='DataFrames'\n",
    ")\n",
    "fig.update_yaxes(range=[-40, 60])  # Set y-axis limits\n",
    "fig.show()"
   ]
  }
 ],
 "metadata": {
  "kernelspec": {
   "display_name": "Python 3 (ipykernel)",
   "language": "python",
   "name": "python3"
  },
  "language_info": {
   "codemirror_mode": {
    "name": "ipython",
    "version": 3
   },
   "file_extension": ".py",
   "mimetype": "text/x-python",
   "name": "python",
   "nbconvert_exporter": "python",
   "pygments_lexer": "ipython3",
   "version": "3.13.2"
  }
 },
 "nbformat": 4,
 "nbformat_minor": 5
}
