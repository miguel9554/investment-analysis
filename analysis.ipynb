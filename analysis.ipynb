{
 "cells": [
  {
   "cell_type": "code",
   "execution_count": 1,
   "id": "756547a9-22a0-4eee-95de-d6847d99f9e9",
   "metadata": {},
   "outputs": [],
   "source": [
    "%load_ext autoreload\n",
    "%autoreload 2\n",
    "\n",
    "from read_excel import *\n",
    "from compute_state import *\n",
    "from collections import namedtuple"
   ]
  },
  {
   "cell_type": "code",
   "execution_count": 61,
   "id": "2e965ef8-be50-4b9d-9283-d46aab34d28f",
   "metadata": {},
   "outputs": [
    {
     "name": "stdout",
     "output_type": "stream",
     "text": [
      "Operacion           Suscripción Desde Cuenta Balanz\n",
      "Estado                                    Ejecutada\n",
      "id Orden                                   41387004\n",
      "Ticker                                        BCMMA\n",
      "Moneda                                        Pesos\n",
      "Fecha                           2024-04-17 14:15:11\n",
      "Cantidad                                       -1.0\n",
      "Precio                                         -1.0\n",
      "Monto                                     314704.13\n",
      "Precio Operado                             6.300322\n",
      "Cantidad Operada                       49950.483483\n",
      "Name: 0, dtype: object\n"
     ]
    }
   ],
   "source": [
    "# Example usage:\n",
    "file_path = 'private/ordenes.xlsx'  # Set the filename to 'ordenes.xlsx'\n",
    "df = read_excel_to_dataframe(file_path)\n",
    "df = merge_date_time_columns(df)\n",
    "print(df.loc[0])"
   ]
  },
  {
   "cell_type": "code",
   "execution_count": 70,
   "id": "9a018e1e-e5d8-4a0d-b440-3598291a9251",
   "metadata": {},
   "outputs": [
    {
     "name": "stdout",
     "output_type": "stream",
     "text": [
      "On 2024-04-17 14:15:11 USD price: 1021.16, ARS: 314704.13, USD: 308.18297818167576\n",
      "On 2024-04-15 10:23:03 USD price: 1021.55, ARS: -467073.42, USD: -457.2203220596153\n"
     ]
    },
    {
     "ename": "ValueError",
     "evalue": "Invalid operation type: Rescate a Cuenta Balanz",
     "output_type": "error",
     "traceback": [
      "\u001b[0;31m---------------------------------------------------------------------------\u001b[0m",
      "\u001b[0;31mValueError\u001b[0m                                Traceback (most recent call last)",
      "Cell \u001b[0;32mIn[70], line 12\u001b[0m\n\u001b[1;32m      8\u001b[0m \u001b[38;5;66;03m# Iterate through all rows of the DataFrame\u001b[39;00m\n\u001b[1;32m      9\u001b[0m \u001b[38;5;28;01mfor\u001b[39;00m index, row \u001b[38;5;129;01min\u001b[39;00m df\u001b[38;5;241m.\u001b[39miterrows():\n\u001b[1;32m     10\u001b[0m     \n\u001b[1;32m     11\u001b[0m     \u001b[38;5;66;03m# Call the update_state function for each row\u001b[39;00m\n\u001b[0;32m---> 12\u001b[0m     next_state \u001b[38;5;241m=\u001b[39m \u001b[43mupdate_state\u001b[49m\u001b[43m(\u001b[49m\u001b[43mrow\u001b[49m\u001b[43m,\u001b[49m\u001b[43m \u001b[49m\u001b[43mcurrent_state\u001b[49m\u001b[43m)\u001b[49m\n\u001b[1;32m     14\u001b[0m     \u001b[38;5;66;03m# Update the current state to the next state\u001b[39;00m\n\u001b[1;32m     15\u001b[0m     current_state \u001b[38;5;241m=\u001b[39m next_state\n",
      "File \u001b[0;32m~/dev/finance/balanz_analysis/compute_state.py:23\u001b[0m, in \u001b[0;36mupdate_state\u001b[0;34m(row, current_state)\u001b[0m\n\u001b[1;32m     21\u001b[0m     \u001b[38;5;28;01mreturn\u001b[39;00m new_state\n\u001b[1;32m     22\u001b[0m \u001b[38;5;28;01melse\u001b[39;00m:\n\u001b[0;32m---> 23\u001b[0m     \u001b[38;5;28;01mraise\u001b[39;00m \u001b[38;5;167;01mValueError\u001b[39;00m(\u001b[38;5;124mf\u001b[39m\u001b[38;5;124m\"\u001b[39m\u001b[38;5;124mInvalid operation type: \u001b[39m\u001b[38;5;132;01m{\u001b[39;00moperation_type\u001b[38;5;132;01m}\u001b[39;00m\u001b[38;5;124m\"\u001b[39m)\n",
      "\u001b[0;31mValueError\u001b[0m: Invalid operation type: Rescate a Cuenta Balanz"
     ]
    }
   ],
   "source": [
    "## Example usage:\n",
    "# Create a Balance tuple\n",
    "balance = Balance(ARS=0, USD=0)\n",
    "\n",
    "# Create a State tuple containing the Balance tuple\n",
    "current_state = State(balance=balance)\n",
    "\n",
    "# Iterate through all rows of the DataFrame\n",
    "for index, row in df.iterrows():\n",
    "    \n",
    "    # Call the update_state function for each row\n",
    "    next_state = update_state(row, current_state)\n",
    "    \n",
    "    # Update the current state to the next state\n",
    "    current_state = next_state\n",
    "\n",
    "current_state"
   ]
  }
 ],
 "metadata": {
  "kernelspec": {
   "display_name": "Python 3 (ipykernel)",
   "language": "python",
   "name": "python3"
  },
  "language_info": {
   "codemirror_mode": {
    "name": "ipython",
    "version": 3
   },
   "file_extension": ".py",
   "mimetype": "text/x-python",
   "name": "python",
   "nbconvert_exporter": "python",
   "pygments_lexer": "ipython3",
   "version": "3.11.8"
  }
 },
 "nbformat": 4,
 "nbformat_minor": 5
}
