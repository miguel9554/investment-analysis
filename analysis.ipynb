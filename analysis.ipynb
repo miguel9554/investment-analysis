{
 "cells": [
  {
   "cell_type": "code",
   "execution_count": 20,
   "id": "756547a9-22a0-4eee-95de-d6847d99f9e9",
   "metadata": {},
   "outputs": [
    {
     "name": "stdout",
     "output_type": "stream",
     "text": [
      "The autoreload extension is already loaded. To reload it, use:\n",
      "  %reload_ext autoreload\n"
     ]
    }
   ],
   "source": [
    "%load_ext autoreload\n",
    "%autoreload 2\n",
    "\n",
    "from pprint import pprint\n",
    "\n",
    "from read_excel import *\n",
    "from compute_state import *\n",
    "from collections import namedtuple\n",
    "from custom_types import *"
   ]
  },
  {
   "cell_type": "code",
   "execution_count": 2,
   "id": "2e965ef8-be50-4b9d-9283-d46aab34d28f",
   "metadata": {},
   "outputs": [
    {
     "name": "stdout",
     "output_type": "stream",
     "text": [
      "Descripcion            Dividendo en efectivo / MO\n",
      "Ticker                                         MO\n",
      "Tipo de Instrumento                       Cedears\n",
      "Concertacion                  2024-05-03 00:00:00\n",
      "Cantidad                                      0.0\n",
      "Precio                                       -1.0\n",
      "Liquidacion                   2024-05-03 00:00:00\n",
      "Moneda                          Dólares C.V. 7000\n",
      "Importe                                      6.18\n",
      "Name: 0, dtype: object\n"
     ]
    }
   ],
   "source": [
    "# Example usage:\n",
    "file_path = 'private/movimientos.xlsx'  # Set the filename to 'ordenes.xlsx'\n",
    "df = read_excel_to_dataframe(file_path)\n",
    "print(df.loc[0])"
   ]
  },
  {
   "cell_type": "code",
   "execution_count": 31,
   "id": "9a018e1e-e5d8-4a0d-b440-3598291a9251",
   "metadata": {},
   "outputs": [
    {
     "data": {
      "text/plain": [
       "State(Fondos=(instrument_t(name='BCACCA', amount=16401.045284), instrument_t(name='BRTA', amount=6582.329402), instrument_t(name='INSTITUA', amount=50353.867777999985), instrument_t(name='BCMMA', amount=49950.483483)), Cedears=(instrument_t(name='BRKB', amount=20.0), instrument_t(name='TSLA', amount=18.0), instrument_t(name='V', amount=24.0), instrument_t(name='TSM', amount=27.0), instrument_t(name='AVGO', amount=10.0), instrument_t(name='AMD', amount=67.0), instrument_t(name='NVDA', amount=34.0), instrument_t(name='TXN', amount=4.0), instrument_t(name='QCOM', amount=9.0), instrument_t(name='MSFT', amount=81.0), instrument_t(name='INTC', amount=10.0), instrument_t(name='ADBE', amount=56.0), instrument_t(name='AAPL', amount=150.0), instrument_t(name='DIA', amount=33.0), instrument_t(name='XLE', amount=6.0), instrument_t(name='SPY', amount=15.0), instrument_t(name='MO', amount=39.0), instrument_t(name='MMM', amount=18.0), instrument_t(name='IBM', amount=78.0), instrument_t(name='CVX', amount=21.0)), Bonos=(instrument_t(name='GD30', amount=4711.0), instrument_t(name='AL29', amount=7500.0), instrument_t(name='AL30', amount=19977.0), instrument_t(name='AL35', amount=3440.0)), Corporativos=(instrument_t(name='RCCJO', amount=428.0), instrument_t(name='IRCGO', amount=206.0), instrument_t(name='DNC3O', amount=400.0)))"
      ]
     },
     "execution_count": 31,
     "metadata": {},
     "output_type": "execute_result"
    }
   ],
   "source": [
    "# Create a State tuple containing the Balance tuple\n",
    "current_state = State(Fondos=tuple(), Cedears=tuple(), Bonos=tuple(), Corporativos=tuple())\n",
    "\n",
    "# Iterate through all rows of the DataFrame\n",
    "for index, row in df[::-1].iterrows():\n",
    "    \n",
    "    # Call the update_state function for each row\n",
    "    next_state = update_state(row, current_state)\n",
    "    \n",
    "    # Update the current state to the next state\n",
    "    current_state = next_state\n",
    "\n",
    "current_state"
   ]
  },
  {
   "cell_type": "code",
   "execution_count": 28,
   "id": "fc78bc9a-eeb6-42dc-bc8a-8d828ade8a7f",
   "metadata": {},
   "outputs": [
    {
     "data": {
      "text/plain": [
       "(instrument_t(name='RCCJO', amount=428.0),\n",
       " instrument_t(name='IRCGO', amount=206.0),\n",
       " instrument_t(name='DNC3O', amount=400.0))"
      ]
     },
     "execution_count": 28,
     "metadata": {},
     "output_type": "execute_result"
    }
   ],
   "source": [
    "current_state.Corporativos"
   ]
  }
 ],
 "metadata": {
  "kernelspec": {
   "display_name": "Python 3 (ipykernel)",
   "language": "python",
   "name": "python3"
  },
  "language_info": {
   "codemirror_mode": {
    "name": "ipython",
    "version": 3
   },
   "file_extension": ".py",
   "mimetype": "text/x-python",
   "name": "python",
   "nbconvert_exporter": "python",
   "pygments_lexer": "ipython3",
   "version": "3.12.3"
  }
 },
 "nbformat": 4,
 "nbformat_minor": 5
}
