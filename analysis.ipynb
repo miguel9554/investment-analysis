{
 "cells": [
  {
   "cell_type": "code",
   "execution_count": null,
   "id": "756547a9-22a0-4eee-95de-d6847d99f9e9",
   "metadata": {},
   "outputs": [],
   "source": [
    "%load_ext autoreload\n",
    "%autoreload 2\n",
    "\n",
    "from pprint import pprint\n",
    "\n",
    "from read_excel import *\n",
    "from compute_state import *\n",
    "from collections import namedtuple\n",
    "from custom_types import *\n",
    "from prices.balanz_fci_price import *\n",
    "from timeseries_analysis import *\n",
    "from datetime import datetime\n",
    "import plotly.express as px\n",
    "import plotly.graph_objs as go\n",
    "from plotly.offline import init_notebook_mode, iplot"
   ]
  },
  {
   "cell_type": "code",
   "execution_count": null,
   "id": "2e965ef8-be50-4b9d-9283-d46aab34d28f",
   "metadata": {},
   "outputs": [],
   "source": [
    "# Example usage:\n",
    "file_path = 'private/movimientos.xlsx'  # Set the filename to 'ordenes.xlsx'\n",
    "df = read_excel_to_dataframe(file_path)\n",
    "print(df.loc[0])"
   ]
  },
  {
   "cell_type": "code",
   "execution_count": null,
   "id": "9a018e1e-e5d8-4a0d-b440-3598291a9251",
   "metadata": {},
   "outputs": [],
   "source": [
    "# Create a State tuple containing the Balance tuple\n",
    "current_state = State(Fondos=tuple(), Cedears=tuple(), Bonos=tuple(), Corporativos=tuple())\n",
    "\n",
    "states_over_time = {}\n",
    "\n",
    "# Iterate through all rows of the DataFrame\n",
    "for index, row in df[::-1].iterrows():\n",
    "    \n",
    "    # Call the update_state function for each row\n",
    "    next_state = update_state(row, current_state)\n",
    "    \n",
    "    # Update the current state to the next state\n",
    "    current_state = next_state\n",
    "\n",
    "    states_over_time[row['Concertacion'].date()] = current_state\n",
    "\n",
    "current_state"
   ]
  },
  {
   "cell_type": "code",
   "execution_count": null,
   "id": "192521ea-3819-49b7-ae28-f0df66955644",
   "metadata": {},
   "outputs": [],
   "source": [
    "fondos_over_time = extract_instrument_from_state(states_over_time, 'Fondos')"
   ]
  },
  {
   "cell_type": "code",
   "execution_count": null,
   "id": "1ee5332b-9285-441e-bdd2-00f0d166a93b",
   "metadata": {},
   "outputs": [],
   "source": [
    "dict_to_dataframe(fondos_over_time)"
   ]
  },
  {
   "cell_type": "code",
   "execution_count": null,
   "id": "88774cfd-63bf-41d0-9535-99d66c6dc42b",
   "metadata": {},
   "outputs": [],
   "source": [
    "FCIs_amounts = fill_missing_days(dict_to_dataframe(fondos_over_time)).drop(['BCMMA', 'BCAHA'], axis=1)\n",
    "FCIs_amounts"
   ]
  },
  {
   "cell_type": "code",
   "execution_count": null,
   "id": "95848952-0af8-41c3-94ef-cc55efa8a6f5",
   "metadata": {},
   "outputs": [],
   "source": [
    "FCIs_prices = get_fcis_price_df(FCIs_amounts.columns, FCIs_amounts.index)\n",
    "FCIs_prices"
   ]
  },
  {
   "cell_type": "code",
   "execution_count": null,
   "id": "d870dab2-dc81-478c-8c9b-63f0619887a5",
   "metadata": {},
   "outputs": [],
   "source": [
    "FCIs_values = FCIs_amounts*FCIs_prices\n",
    "FCIs_values"
   ]
  },
  {
   "cell_type": "code",
   "execution_count": null,
   "id": "b39ced0a-d700-47a5-b99e-5fa7da2ec042",
   "metadata": {},
   "outputs": [],
   "source": [
    "pd.options.plotting.backend = \"plotly\"\n",
    "\n",
    "# Plot using Plotly Express\n",
    "fig = FCIs_values.plot()\n",
    "fig.layout.height = 500\n",
    "fig.layout.width = 1000\n",
    "fig.show()"
   ]
  },
  {
   "cell_type": "code",
   "execution_count": null,
   "id": "9d398c2a-1290-4278-b9be-2493e0ce0bb4",
   "metadata": {},
   "outputs": [],
   "source": [
    "dolar_mep = get_dolar_price_df(FCIs_amounts.index)\n",
    "dolar_mep"
   ]
  },
  {
   "cell_type": "code",
   "execution_count": null,
   "id": "005ff423-642a-4297-9535-728866abd927",
   "metadata": {},
   "outputs": [],
   "source": [
    "FCIs_values_dolar = FCIs_values.div(dolar_mep.iloc[:, 0], axis=0)\n",
    "FCIs_values_dolar"
   ]
  },
  {
   "cell_type": "code",
   "execution_count": null,
   "id": "f04c9683-55bd-42dc-aa17-131943cf63f9",
   "metadata": {},
   "outputs": [],
   "source": [
    "# Plot using Plotly Express\n",
    "fig = FCIs_values_dolar.plot()\n",
    "fig.layout.height = 500\n",
    "fig.layout.width = 1000\n",
    "fig.show()"
   ]
  }
 ],
 "metadata": {
  "kernelspec": {
   "display_name": "Python 3 (ipykernel)",
   "language": "python",
   "name": "python3"
  },
  "language_info": {
   "codemirror_mode": {
    "name": "ipython",
    "version": 3
   },
   "file_extension": ".py",
   "mimetype": "text/x-python",
   "name": "python",
   "nbconvert_exporter": "python",
   "pygments_lexer": "ipython3",
   "version": "3.12.3"
  }
 },
 "nbformat": 4,
 "nbformat_minor": 5
}
